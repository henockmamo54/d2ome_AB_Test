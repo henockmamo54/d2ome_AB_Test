{
 "cells": [
  {
   "cell_type": "code",
   "execution_count": 1,
   "id": "abbd7fdb",
   "metadata": {},
   "outputs": [],
   "source": [
    "import os \n",
    "import numpy as np\n",
    "import pandas as pd\n",
    "import json"
   ]
  },
  {
   "cell_type": "code",
   "execution_count": 2,
   "id": "1eb5c823",
   "metadata": {},
   "outputs": [],
   "source": [
    "# A=pd.read_csv(\"H:/Warehouse/Data/liverpool/liver/6_23_2022_c/Analyzed_Proteins_and_Their_Rates.csv\")\n",
    "A=pd.read_csv(\"C:/Users/hmdebern.UTMB-USERS-M/Desktop/delete3/Analyzed_Proteins_and_Their_Rates.csv\")\n",
    "B=pd.read_csv(\"C:/Users/hmdebern.UTMB-USERS-M/Desktop/delete3/Analyzed_Proteins_and_Their_Rates.csv\") "
   ]
  },
  {
   "cell_type": "code",
   "execution_count": 3,
   "id": "72a461c5",
   "metadata": {
    "scrolled": true
   },
   "outputs": [
    {
     "data": {
      "text/plain": [
       "{' RateConstant': {'count': 2470.0,\n",
       "  'mean': 0.6136152927,\n",
       "  'std': 2.3110822975,\n",
       "  'min': 2.6e-05,\n",
       "  '25%': 0.17763825,\n",
       "  '50%': 0.300298,\n",
       "  '75%': 0.52499575,\n",
       "  'max': 101.537361},\n",
       " 'CI lower bound': {'count': 2470.0,\n",
       "  'mean': 0.3898707061,\n",
       "  'std': 2.1976924975,\n",
       "  'min': 0.0,\n",
       "  '25%': 0.09753325,\n",
       "  '50%': 0.1915295,\n",
       "  '75%': 0.3257215,\n",
       "  'max': 101.537361},\n",
       " 'CI upper bound': {'count': 2470.0,\n",
       "  'mean': 3.3397732818,\n",
       "  'std': 79.4945751425,\n",
       "  'min': 0.003697,\n",
       "  '25%': 0.2492145,\n",
       "  '50%': 0.429026,\n",
       "  '75%': 0.84233475,\n",
       "  'max': 3848.288818},\n",
       " ' Number of peptides': {'count': 2470.0,\n",
       "  'mean': 5.3692307692,\n",
       "  'std': 7.0003547193,\n",
       "  'min': 1.0,\n",
       "  '25%': 2.0,\n",
       "  '50%': 3.0,\n",
       "  '75%': 6.0,\n",
       "  'max': 140.0},\n",
       " 'Number of peptides identified in MS2': {'count': 2470.0,\n",
       "  'mean': 10.8599190283,\n",
       "  'std': 13.6751872398,\n",
       "  'min': 1.0,\n",
       "  '25%': 3.0,\n",
       "  '50%': 6.0,\n",
       "  '75%': 14.0,\n",
       "  'max': 245.0},\n",
       " ' Abundance': {'count': 2470.0,\n",
       "  'mean': 225886047612.16367,\n",
       "  'std': 1329939280697.7964,\n",
       "  'min': 0.0,\n",
       "  '25%': 2070106848.0,\n",
       "  '50%': 11877961728.0,\n",
       "  '75%': 81653331968.0,\n",
       "  'max': 48059207647232.0}}"
      ]
     },
     "execution_count": 3,
     "metadata": {},
     "output_type": "execute_result"
    }
   ],
   "source": [
    "json.loads(A.describe().to_json())"
   ]
  },
  {
   "cell_type": "code",
   "execution_count": 4,
   "id": "49fb0615",
   "metadata": {},
   "outputs": [
    {
     "name": "stdout",
     "output_type": "stream",
     "text": [
      "(2470, 8)\n"
     ]
    },
    {
     "data": {
      "text/plain": [
       "Index(['Proteins', ' RateConstant_A', 'CI lower bound_A', 'CI upper bound_A',\n",
       "       ' Number of peptides_A', 'Number of peptides identified in MS2_A',\n",
       "       ' SD_A', ' Abundance_A', ' RateConstant_B', 'CI lower bound_B',\n",
       "       'CI upper bound_B', ' Number of peptides_B',\n",
       "       'Number of peptides identified in MS2_B', ' SD_B', ' Abundance_B'],\n",
       "      dtype='object')"
      ]
     },
     "execution_count": 4,
     "metadata": {},
     "output_type": "execute_result"
    }
   ],
   "source": [
    "print(A.shape)\n",
    "merged_AB_data=A.merge(B, on=\"Proteins\",suffixes=[\"_A\",\"_B\"])\n",
    "merged_AB_data.columns"
   ]
  },
  {
   "cell_type": "code",
   "execution_count": 17,
   "id": "252ba2ba",
   "metadata": {},
   "outputs": [],
   "source": [
    "# list(merged_AB_data[\" RateConstant_B\"])"
   ]
  },
  {
   "cell_type": "code",
   "execution_count": 16,
   "id": "b77a0009",
   "metadata": {},
   "outputs": [
    {
     "data": {
      "text/plain": [
       "'1.00'"
      ]
     },
     "execution_count": 16,
     "metadata": {},
     "output_type": "execute_result"
    }
   ],
   "source": [
    "f'{merged_AB_data[[\" RateConstant_A\",\" RateConstant_B\"]].corr()[\" RateConstant_A\"][\" RateConstant_B\"]:.2f}'"
   ]
  },
  {
   "cell_type": "code",
   "execution_count": 21,
   "id": "47a82bbe",
   "metadata": {},
   "outputs": [],
   "source": [
    "from scipy.stats import mannwhitneyu\n",
    "U1, p = mannwhitneyu(merged_AB_data[[\" RateConstant_A\"]], merged_AB_data[[\" RateConstant_B\"]])"
   ]
  },
  {
   "cell_type": "code",
   "execution_count": 26,
   "id": "4790c0f8",
   "metadata": {},
   "outputs": [
    {
     "data": {
      "text/plain": [
       "'3050450.0'"
      ]
     },
     "execution_count": 26,
     "metadata": {},
     "output_type": "execute_result"
    }
   ],
   "source": [
    "f'{float(U1):.1f}'"
   ]
  },
  {
   "cell_type": "code",
   "execution_count": 27,
   "id": "e697096c",
   "metadata": {},
   "outputs": [
    {
     "data": {
      "text/plain": [
       "'1.0'"
      ]
     },
     "execution_count": 27,
     "metadata": {},
     "output_type": "execute_result"
    }
   ],
   "source": [
    "f'{float(p):.1f}'"
   ]
  },
  {
   "cell_type": "code",
   "execution_count": null,
   "id": "05fda283",
   "metadata": {},
   "outputs": [],
   "source": []
  }
 ],
 "metadata": {
  "kernelspec": {
   "display_name": "Python 3 (ipykernel)",
   "language": "python",
   "name": "python3"
  },
  "language_info": {
   "codemirror_mode": {
    "name": "ipython",
    "version": 3
   },
   "file_extension": ".py",
   "mimetype": "text/x-python",
   "name": "python",
   "nbconvert_exporter": "python",
   "pygments_lexer": "ipython3",
   "version": "3.9.11"
  }
 },
 "nbformat": 4,
 "nbformat_minor": 5
}
